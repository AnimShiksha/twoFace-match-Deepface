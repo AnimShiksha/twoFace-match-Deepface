{
 "cells": [
  {
   "cell_type": "code",
   "execution_count": 1,
   "metadata": {},
   "outputs": [],
   "source": [
    "from deepface import DeepFace\n",
    "import os\n",
    "import matplotlib.pyplot as plt"
   ]
  },
  {
   "cell_type": "code",
   "execution_count": 2,
   "metadata": {},
   "outputs": [
    {
     "name": "stdout",
     "output_type": "stream",
     "text": [
      "d:\\vscode_machineLearning\\BEST_PROJECTS\\twoFace-match-Deepface\\src\n",
      "d:\\vscode_machineLearning\\BEST_PROJECTS\\twoFace-match-Deepface\n"
     ]
    }
   ],
   "source": [
    "print(os.getcwd())\n",
    "os.chdir(r'd:\\vscode_machineLearning\\BEST_PROJECTS\\twoFace-match-Deepface')\n",
    "print(os.getcwd())"
   ]
  },
  {
   "cell_type": "code",
   "execution_count": 3,
   "metadata": {},
   "outputs": [],
   "source": [
    "sim=DeepFace.verify(img1_path=r'images\\myimg_old2.jpg',img2_path=f'images\\myimg_old.jpg',enforce_detection=True)"
   ]
  },
  {
   "cell_type": "code",
   "execution_count": null,
   "metadata": {},
   "outputs": [
    {
     "data": {
      "text/plain": [
       "{'verified': True,\n",
       " 'distance': 0.1587404758599925,\n",
       " 'threshold': 0.4,\n",
       " 'model': 'VGG-Face',\n",
       " 'detector_backend': 'opencv',\n",
       " 'similarity_metric': 'cosine',\n",
       " 'facial_areas': {'img1': {'x': 482, 'y': 540, 'w': 1038, 'h': 1038},\n",
       "  'img2': {'x': 545, 'y': 561, 'w': 1007, 'h': 1007}},\n",
       " 'time': 9.11}"
      ]
     },
     "execution_count": 4,
     "metadata": {},
     "output_type": "execute_result"
    }
   ],
   "source": [
    "sim"
   ]
  },
  {
   "cell_type": "code",
   "execution_count": null,
   "metadata": {},
   "outputs": [],
   "source": [
    "backends_dict = {\n",
    "    'opencv': 'opencv',\n",
    "    'ssd': 'ssd',\n",
    "    'dblib': 'dblib',\n",
    "    'mtcnn': 'mtcnn',\n",
    "    'retinaface': 'retinaface',\n",
    "    'mediapipe': 'mediapipe',\n",
    "    'VGG-Face':'VGG-Face',\n",
    "    'OpenFace':'OpenFace'\n",
    "}\n",
    "\n",
    "\n",
    "backends = ['opencv','ssd','dblib','mtcnn','retinaface','mediapipe']\n",
    "models = ['VGG-Face','FaceNet','Facenet512','OpenFace','DeepFace','DeepID','ArcFace','Dlib','SFace']"
   ]
  },
  {
   "cell_type": "code",
   "execution_count": null,
   "metadata": {},
   "outputs": [
    {
     "name": "stdout",
     "output_type": "stream",
     "text": [
      "1/1 [==============================] - 1s 596ms/step\n",
      "1/1 [==============================] - 0s 335ms/step\n",
      "1/1 [==============================] - 0s 134ms/step\n",
      "1/1 [==============================] - 0s 86ms/step\n",
      "1/1 [==============================] - 0s 83ms/step\n",
      "1/1 [==============================] - 0s 49ms/step\n",
      "1/1 [==============================] - 0s 50ms/step\n",
      "1/1 [==============================] - 0s 41ms/step\n",
      "1/1 [==============================] - 0s 29ms/step\n",
      "1/1 [==============================] - 0s 28ms/step\n",
      "1/1 [==============================] - 0s 25ms/step\n",
      "1/1 [==============================] - 0s 23ms/step\n",
      "1/1 [==============================] - 0s 22ms/step\n",
      "1/1 [==============================] - 0s 30ms/step\n",
      "8/8 [==============================] - 0s 11ms/step\n",
      "1/1 [==============================] - 0s 184ms/step\n",
      "1/1 [==============================] - 0s 490ms/step\n",
      "1/1 [==============================] - 0s 257ms/step\n"
     ]
    }
   ],
   "source": [
    "for i , title in backends_dict.items():\n",
    "    try:\n",
    "        result = DeepFace.verify(\n",
    "            img1_path=r'images\\myimg_old2.jpg',\n",
    "            img2_path=r'images\\myimg_old2.jpg',\n",
    "            detector_backend = i\n",
    "        )\n",
    "        fig, axs = plt.subplots(nrows=1,ncols=2,figsize =(10,5))\n",
    "        axs[0].imshow(plt.imread(r'images\\myimg_old2.jpg'))\n",
    "        axs[1].imshow(plt.imread(r'images\\myimg_old.jpg'))\n",
    "        fig.suptitle(f'backned is {i} , similarity is {1- result[\"distance\"]}')\n",
    "        axs[0].axis('off')\n",
    "        axs[1].axis('off')\n",
    "        plt.show()\n",
    "\n",
    "    except:\n",
    "        pass\n",
    "    "
   ]
  },
  {
   "cell_type": "code",
   "execution_count": null,
   "metadata": {},
   "outputs": [
    {
     "data": {
      "text/plain": [
       "0.8412595241400075"
      ]
     },
     "execution_count": 29,
     "metadata": {},
     "output_type": "execute_result"
    }
   ],
   "source": [
    "1- sim['distance']"
   ]
  },
  {
   "cell_type": "code",
   "execution_count": null,
   "metadata": {},
   "outputs": [],
   "source": []
  },
  {
   "cell_type": "code",
   "execution_count": null,
   "metadata": {},
   "outputs": [],
   "source": []
  }
 ],
 "metadata": {
  "kernelspec": {
   "display_name": "Python 3",
   "language": "python",
   "name": "python3"
  },
  "language_info": {
   "codemirror_mode": {
    "name": "ipython",
    "version": 3
   },
   "file_extension": ".py",
   "mimetype": "text/x-python",
   "name": "python",
   "nbconvert_exporter": "python",
   "pygments_lexer": "ipython3",
   "version": "3.11.3"
  },
  "orig_nbformat": 4
 },
 "nbformat": 4,
 "nbformat_min